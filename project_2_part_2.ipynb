{
  "nbformat": 4,
  "nbformat_minor": 0,
  "metadata": {
    "colab": {
      "provenance": []
    },
    "kernelspec": {
      "name": "python3",
      "display_name": "Python 3"
    },
    "language_info": {
      "name": "python"
    }
  },
  "cells": [
    {
      "cell_type": "code",
      "execution_count": null,
      "metadata": {
        "colab": {
          "base_uri": "https://localhost:8080/"
        },
        "id": "QaTskWaZXP60",
        "outputId": "e7c07614-be76-4017-8de5-fafe20cf4c6e"
      },
      "outputs": [
        {
          "output_type": "stream",
          "name": "stdout",
          "text": [
            "Conflict-free set: {('d', 'c'), ('e', 'e'), ('b', 'c'), 'a', ('c', 'd')}\n"
          ]
        }
      ],
      "source": [
        "def find_conflict_free_set(arguments, attacks):\n",
        "    conflict_free_set = set()\n",
        "    for arg1 in arguments:\n",
        "        has_attack = False\n",
        "        for arg2 in arguments:\n",
        "            if (arg1, arg2) in attacks:\n",
        "                has_attack = True\n",
        "                break\n",
        "        if not has_attack:\n",
        "            conflict_free_set.add(arg1)\n",
        "        else:\n",
        "           conflict_free_set.add((arg1, arg2))\n",
        "    return conflict_free_set\n",
        "\n",
        "arguments = {'a', 'b', 'c', 'd', 'e'}\n",
        "attacks = {('b', 'a'), ('b', 'c'), ('d', 'c'), ('c', 'd'), ('e', 'd'), ('e', 'e')}\n",
        "\n",
        "result = find_conflict_free_set(arguments, attacks)\n",
        "print(\"Conflict-free set:\", result)"
      ]
    },
    {
      "cell_type": "code",
      "source": [
        "def is_defended(argument, relation, A):\n",
        "    for element in A:\n",
        "        defended = False\n",
        "        for index in A:\n",
        "            if (element, index) in relation and :\n",
        "                # Check if there exists an argument in A that attacks 'argument'\n",
        "                defended = any((arg, element) in relation for arg in A)\n",
        "                if not defended:\n",
        "                    print(\"Not defended\")\n",
        "                    return\n",
        "        # If 'defended' is True at this point, it means 'argument' is defended by the set\n",
        "    print(\"Defended\")\n",
        "\n",
        "# Example Framework\n",
        "A = {'a', 'b', 'c', 'd', 'e'}\n",
        "R = {('a', 'b'), ('c', 'b'), ('c', 'd'), ('d', 'c'), ('d', 'e'), ('e', 'e')}\n",
        "\n",
        "# Check if 'c' is defended by any set\n",
        "is_defended('b', R, A)\n",
        "\n"
      ],
      "metadata": {
        "id": "vDiu1YYjXZ8h"
      },
      "execution_count": null,
      "outputs": []
    },
    {
      "cell_type": "code",
      "source": [
        "def find_conflict_free_set(arguments, attacks):\n",
        "    conflict_free_set = set()\n",
        "    for arg1 in arguments:\n",
        "        is_conflict = False\n",
        "        for arg2 in arguments:\n",
        "            if (arg1, arg2) in attacks:\n",
        "                is_conflict = True\n",
        "                break\n",
        "        if not is_conflict:\n",
        "            conflict_free_set.add(arg1)\n",
        "    return conflict_free_set\n",
        "\n",
        "def is_defended(argument, relation, arguments):\n",
        "    for element in arguments:\n",
        "        defended = any((arg, element) in relation for arg in arguments)\n",
        "        if not defended:\n",
        "            return False\n",
        "    return True\n",
        "\n",
        "def find_admissible_semantics(arguments, attacks):\n",
        "    conflict_free_set = find_conflict_free_set(arguments, attacks)\n",
        "    admissible_set = set()\n",
        "    for argument in conflict_free_set:\n",
        "        if is_defended(argument, attacks, arguments):\n",
        "            admissible_set.add(argument)\n",
        "    return admissible_set\n",
        "\n",
        "def main():\n",
        "    # Given arguments and attacks\n",
        "    arguments = {'a', 'b', 'c', 'd', 'e'}\n",
        "    attacks = {('a', 'b'), ('c', 'b'), ('c', 'd'), ('d', 'c'), ('d', 'e'), ('e', 'e')}\n",
        "\n",
        "    # Find admissible semantics\n",
        "    admissible_set = find_admissible_semantics(arguments, attacks)\n",
        "\n",
        "    # Ask the user for an argument to check\n",
        "    try:\n",
        "        argument_to_check = input(\"Enter the argument to check for credulous acceptance: \")\n",
        "    except ValueError:\n",
        "        print(\"Invalid input. Please enter a valid argument.\")\n",
        "        return\n",
        "\n",
        "    # Check if the argument is in the admissible semantics set\n",
        "    if argument_to_check in admissible_set:\n",
        "        print(f\"The argument {argument_to_check} is credulously accepted under admissible semantics.\")\n",
        "    else:\n",
        "        print(f\"The argument {argument_to_check} is not credulously accepted under admissible semantics.\")\n",
        "\n",
        "if __name__ == \"__main__\":\n",
        "    main()\n"
      ],
      "metadata": {
        "colab": {
          "base_uri": "https://localhost:8080/"
        },
        "id": "Fp-SGCyUXmWr",
        "outputId": "33a047ee-12b0-4f27-980f-be572e23ba60"
      },
      "execution_count": null,
      "outputs": [
        {
          "output_type": "stream",
          "name": "stdout",
          "text": [
            "Enter the argument to check for credulous acceptance: b\n",
            "The argument b is not credulously accepted under admissible semantics.\n"
          ]
        }
      ]
    },
    {
      "cell_type": "markdown",
      "source": [
        "Given F = (A, R) s.t. A = {a, b, c, d, e} and R = {(a, b),(c, b),(c, d),(d, c),(d, e),(e, e)}\n",
        "Write a code that goes like this:\n",
        "1.\tTake arguments in order, so for loop? A= {a,b,c,d,e} start with “a”\n",
        "2.\tDoes it have conflict with the arguments(taken in order)\n",
        "3.\tDOES a HAVE CONFLICT WITH any element from A?\n",
        "4.\tIf yes then add the pair to the empty set of conflict free\n",
        "5.\tNo? move to the next one\n",
        "\n",
        "\n",
        "```\n",
        "def find_conflict_free_set(arguments, attacks):\n",
        "conflict_free_set = set()\n",
        "    for arg1 in argument_set:\n",
        "        for arg2 in argument_set:\n",
        "            if (arg1, arg2) in attacks:\n",
        "                Attack = true => arg2+1 goes to the next argument\n",
        "              Else\n",
        " \t\t\t\tadd (arg1, arg2)to the conflict_free_set\n",
        "    return conflict_free_set\n",
        "\n",
        "\n",
        "def is_defended(argument, relation):\n",
        "    for element in A:\n",
        "\t  for index in A:\n",
        "        \tif (element, INDEX) in R and :\n",
        "            \t\tdefended = any((ARGUMENT, element) in R for ARGUMENT in A)\n",
        "            \tif not defended:\n",
        "                \t\treturn print(“not defeated”)\n",
        "    return print(defeated)\n",
        "```\n",
        "\n",
        "\n",
        "\n",
        "Then, look into the conflict free list\n",
        "delete the terms that are not defeated\n",
        "print the set and name it admissible semantics set\n",
        "in main\n",
        "    # Ask the user for an argument to check\n",
        "    try:\n",
        "        argument_to_check = int(input(\"Enter the argument number to check for credulous acceptance: \"))\n",
        "    except ValueError:\n",
        "        print(\"Invalid input. Please enter a valid argument number.\")\n",
        "        return\n",
        "\n",
        "    # Check if the argument is in the grounded extension\n",
        "    if argument_to_check in admissible set:\n",
        "        print(f\"The argument {argument_to_check} is credulously accepted under admissible semantics.\")\n",
        "    else:\n",
        "        print(f\"The argument {argument_to_check} is not credulously accepted under admissible semantics.\")\n",
        "\n"
      ],
      "metadata": {
        "id": "qtw5IffpYE4E"
      }
    }
  ]
}